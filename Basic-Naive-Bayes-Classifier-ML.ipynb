{
 "cells": [
  {
   "cell_type": "markdown",
   "id": "58f3d42e",
   "metadata": {},
   "source": [
    "# Email Similarity\n",
    "In this project, we will use scikit-learn’s Naive Bayes implementation on several different datasets. By reporting the accuracy of the classifier, we can find which datasets are harder to distinguish. For example, how difficult do you think it is to distinguish the difference between emails about hockey and emails about soccer? How hard is it to tell the difference between emails about hockey and emails about tech? In this project, we’ll find out exactly how difficult those two tasks are."
   ]
  },
  {
   "cell_type": "code",
   "execution_count": 20,
   "id": "f848f489",
   "metadata": {},
   "outputs": [],
   "source": [
    "from sklearn.datasets import fetch_20newsgroups\n",
    "from sklearn.feature_extraction.text import CountVectorizer\n",
    "from sklearn.naive_bayes import MultinomialNB"
   ]
  },
  {
   "cell_type": "code",
   "execution_count": 3,
   "id": "87949dd8",
   "metadata": {},
   "outputs": [
    {
     "name": "stdout",
     "output_type": "stream",
     "text": [
      "['alt.atheism', 'comp.graphics', 'comp.os.ms-windows.misc', 'comp.sys.ibm.pc.hardware', 'comp.sys.mac.hardware', 'comp.windows.x', 'misc.forsale', 'rec.autos', 'rec.motorcycles', 'rec.sport.baseball', 'rec.sport.hockey', 'sci.crypt', 'sci.electronics', 'sci.med', 'sci.space', 'soc.religion.christian', 'talk.politics.guns', 'talk.politics.mideast', 'talk.politics.misc', 'talk.religion.misc']\n"
     ]
    }
   ],
   "source": [
    "data = fetch_20newsgroups()\n",
    "print(data.target_names)"
   ]
  },
  {
   "cell_type": "markdown",
   "id": "1b83bc70",
   "metadata": {},
   "source": [
    "\n",
    "We’re interested in seeing how effective our Naive Bayes classifier is at telling the difference between a baseball email and a hockey email."
   ]
  },
  {
   "cell_type": "code",
   "execution_count": 8,
   "id": "39bbd7c6",
   "metadata": {},
   "outputs": [
    {
     "name": "stdout",
     "output_type": "stream",
     "text": [
      "From: mmb@lamar.ColoState.EDU (Michael Burger)\n",
      "Subject: More TV Info\n",
      "Distribution: na\n",
      "Nntp-Posting-Host: lamar.acns.colostate.edu\n",
      "Organization: Colorado State University, Fort Collins, CO  80523\n",
      "Lines: 36\n",
      "\n",
      "United States Coverage:\n",
      "Sunday April 18\n",
      "  N.J./N.Y.I. at Pittsburgh - 1:00 EDT to Eastern Time Zone\n",
      "  ABC - Gary Thorne and Bill Clement\n",
      "\n",
      "  St. Louis at Chicago - 12:00 CDT and 11:00 MDT - to Central/Mountain Zones\n",
      "  ABC - Mike Emerick and Jim Schoenfeld\n",
      "\n",
      "  Los Angeles at Calgary - 12:00 PDT and 11:00 ADT - to Pacific/Alaskan Zones\n",
      "  ABC - Al Michaels and John Davidson\n",
      "\n",
      "Tuesday, April 20\n",
      "  N.J./N.Y.I. at Pittsburgh - 7:30 EDT Nationwide\n",
      "  ESPN - Gary Thorne and Bill Clement\n",
      "\n",
      "Thursday, April 22 and Saturday April 24\n",
      "  To Be Announced - 7:30 EDT Nationwide\n",
      "  ESPN - To Be Announced\n",
      "\n",
      "\n",
      "Canadian Coverage:\n",
      "\n",
      "Sunday, April 18\n",
      "  Buffalo at Boston - 7:30 EDT Nationwide\n",
      "  TSN - ???\n",
      "\n",
      "Tuesday, April 20\n",
      "  N.J.D./N.Y. at Pittsburgh - 7:30 EDT Nationwide\n",
      "  TSN - ???\n",
      "\n",
      "Wednesday, April 21\n",
      "  St. Louis at Chicago - 8:30 EDT Nationwide\n",
      "  TSN - ???\n",
      "\n",
      "\n",
      "\n",
      "\n",
      "1\n"
     ]
    }
   ],
   "source": [
    "emails = fetch_20newsgroups(categories=['rec.sport.baseball', 'rec.sport.hockey'])\n",
    "print(emails.data[5])\n",
    "print(emails.target[5])"
   ]
  },
  {
   "cell_type": "markdown",
   "id": "1b5de711",
   "metadata": {},
   "source": [
    "1 correspond to Hockey i.e this email is related to hockey\n",
    "\n",
    "# Making the Training and Test Sets"
   ]
  },
  {
   "cell_type": "code",
   "execution_count": 13,
   "id": "dd6c0095",
   "metadata": {},
   "outputs": [],
   "source": [
    "train_email =fetch_20newsgroups(categories=['rec.sport.baseball','rec.sport.hockey'],\n",
    "                                random_state=100,subset='train',shuffle = True)\n",
    "test_email =fetch_20newsgroups(categories=['rec.sport.baseball','rec.sport.hockey'],\n",
    "                               random_state=100,subset='test',shuffle = True)"
   ]
  },
  {
   "cell_type": "markdown",
   "id": "16f4537f",
   "metadata": {},
   "source": [
    "\n",
    "We want to transform these emails into lists of word counts. The CountVectorizer class makes this easy for us."
   ]
  },
  {
   "cell_type": "code",
   "execution_count": 18,
   "id": "e7bda32c",
   "metadata": {},
   "outputs": [],
   "source": [
    "vectorizer = CountVectorizer()\n",
    "vectorizer.fit(train_email.data + test_email.data)\n",
    "train_count = vectorizer.transform(train_email.data)\n",
    "test_count = vectorizer.transform(test_email.data)\n"
   ]
  },
  {
   "cell_type": "markdown",
   "id": "00d0286f",
   "metadata": {},
   "source": [
    "# Making a Naive Bayes Classifier"
   ]
  },
  {
   "cell_type": "code",
   "execution_count": 22,
   "id": "c8c9cc05",
   "metadata": {},
   "outputs": [
    {
     "name": "stdout",
     "output_type": "stream",
     "text": [
      "0.9723618090452262\n"
     ]
    }
   ],
   "source": [
    "model = MultinomialNB()\n",
    "model.fit(train_count,train_email.target)\n",
    "print(model.score(test_count,test_email.target))"
   ]
  },
  {
   "cell_type": "markdown",
   "id": "0d0e1e21",
   "metadata": {},
   "source": [
    "\n",
    "Our classifier does a pretty good job distinguishing between soccer emails and hockey emails.Having 97.23% accuracy\n",
    "\n",
    "# Testing Other Datasets"
   ]
  },
  {
   "cell_type": "code",
   "execution_count": 23,
   "id": "e628d146",
   "metadata": {},
   "outputs": [
    {
     "name": "stdout",
     "output_type": "stream",
     "text": [
      "From: cr292@cleveland.Freenet.Edu (Jim Schenk)\n",
      "Subject: Re: the hawks WILL return to the finals!!!!!\n",
      "Organization: Case Western Reserve University, Cleveland, Ohio (USA)\n",
      "Lines: 9\n",
      "NNTP-Posting-Host: hela.ins.cwru.edu\n",
      "\n",
      "\n",
      "The Hawks won the Norris div, and sealed their fate.  It's bad luck\n",
      "to win the Norris.  The Hawks will sweep the Blues in their dreams but will\n",
      "lose in 6 in reality.  I predict that in the 6 game with the Blues Belfour\n",
      "will go down on his knees 7000 time s and will spend the rest of the time \n",
      "looking behind him self.  Butcher will pound Roenick and The warthawks have\n",
      "no one tough enough to prevent it\n",
      "\n",
      "Bye Bye Wart HAwks\n",
      "\n",
      "1\n"
     ]
    }
   ],
   "source": [
    "emails2 = fetch_20newsgroups(categories=['comp.sys.mac.hardware', 'rec.sport.hockey'])\n",
    "print(emails2.data[5])\n",
    "print(emails2.target[5])"
   ]
  },
  {
   "cell_type": "markdown",
   "id": "795b51eb",
   "metadata": {},
   "source": [
    "1 correspond to Hockey i.e this email is related to hockey"
   ]
  },
  {
   "cell_type": "code",
   "execution_count": 29,
   "id": "935fa173",
   "metadata": {},
   "outputs": [
    {
     "name": "stdout",
     "output_type": "stream",
     "text": [
      "0.9961734693877551\n"
     ]
    }
   ],
   "source": [
    "train_email2 =fetch_20newsgroups(categories=['comp.sys.mac.hardware','rec.sport.hockey'],\n",
    "                                random_state=100,subset='train',shuffle = True)\n",
    "test_email2 =fetch_20newsgroups(categories=['comp.sys.mac.hardware','rec.sport.hockey'],\n",
    "                               random_state=100,subset='test',shuffle = True)\n",
    "vectorizer2 = CountVectorizer()\n",
    "vectorizer2.fit(train_email2.data + test_email2.data)\n",
    "train_count2 = vectorizer2.transform(train_email2.data)\n",
    "test_count2 = vectorizer2.transform(test_email2.data)\n",
    "model2 = MultinomialNB()\n",
    "model2.fit(train_count2,train_email2.target)\n",
    "print(model2.score(test_count2,test_email2.target))"
   ]
  },
  {
   "cell_type": "markdown",
   "id": "5b2b912e",
   "metadata": {},
   "source": [
    "Our classifier does a pretty good job distinguishing between harware emails and hockey emails.Having 99.61% accuracy"
   ]
  }
 ],
 "metadata": {
  "kernelspec": {
   "display_name": "Python 3",
   "language": "python",
   "name": "python3"
  },
  "language_info": {
   "codemirror_mode": {
    "name": "ipython",
    "version": 3
   },
   "file_extension": ".py",
   "mimetype": "text/x-python",
   "name": "python",
   "nbconvert_exporter": "python",
   "pygments_lexer": "ipython3",
   "version": "3.8.8"
  }
 },
 "nbformat": 4,
 "nbformat_minor": 5
}
