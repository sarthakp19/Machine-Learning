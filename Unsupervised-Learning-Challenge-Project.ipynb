{
 "cells": [
  {
   "cell_type": "markdown",
   "metadata": {},
   "source": [
    "# Project Masculinity\n",
    "\n",
    "Welcome to the cumulative project on clustering algorithms! In this project, we will be investigating the way people think about masculinity by applying the KMeans algorithm to data from FiveThirtyEight . FiveThirtyEight is a popular website known for their use of statistical analysis in many of their stories.\n",
    "\n",
    "To begin, take a look at `masculinity-survey.pdf`. FiveThirtyEight and WNYC studios used this survey to get their male readers' thoughts on masculinity. After looking through some of the questions asked, take a look at FiveThirtyEight's article <a href=\"https://fivethirtyeight.com/features/what-do-men-think-it-means-to-be-a-man/\" target = \"_blank\">What Do Men Think It Means To Be A Man?</a> to see their major takeaways. We're going to try to find more insights using machine learning.\n",
    "\n"
   ]
  },
  {
   "cell_type": "code",
   "execution_count": 26,
   "metadata": {},
   "outputs": [
    {
     "name": "stdout",
     "output_type": "stream",
     "text": [
      "Index(['Unnamed: 0', 'StartDate', 'EndDate', 'q0001', 'q0002', 'q0004_0001',\n",
      "       'q0004_0002', 'q0004_0003', 'q0004_0004', 'q0004_0005', 'q0004_0006',\n",
      "       'q0005', 'q0007_0001', 'q0007_0002', 'q0007_0003', 'q0007_0004',\n",
      "       'q0007_0005', 'q0007_0006', 'q0007_0007', 'q0007_0008', 'q0007_0009',\n",
      "       'q0007_0010', 'q0007_0011', 'q0008_0001', 'q0008_0002', 'q0008_0003',\n",
      "       'q0008_0004', 'q0008_0005', 'q0008_0006', 'q0008_0007', 'q0008_0008',\n",
      "       'q0008_0009', 'q0008_0010', 'q0008_0011', 'q0008_0012', 'q0009',\n",
      "       'q0010_0001', 'q0010_0002', 'q0010_0003', 'q0010_0004', 'q0010_0005',\n",
      "       'q0010_0006', 'q0010_0007', 'q0010_0008', 'q0011_0001', 'q0011_0002',\n",
      "       'q0011_0003', 'q0011_0004', 'q0011_0005', 'q0012_0001', 'q0012_0002',\n",
      "       'q0012_0003', 'q0012_0004', 'q0012_0005', 'q0012_0006', 'q0012_0007',\n",
      "       'q0013', 'q0014', 'q0015', 'q0017', 'q0018', 'q0019_0001', 'q0019_0002',\n",
      "       'q0019_0003', 'q0019_0004', 'q0019_0005', 'q0019_0006', 'q0019_0007',\n",
      "       'q0020_0001', 'q0020_0002', 'q0020_0003', 'q0020_0004', 'q0020_0005',\n",
      "       'q0020_0006', 'q0021_0001', 'q0021_0002', 'q0021_0003', 'q0021_0004',\n",
      "       'q0022', 'q0024', 'q0025_0001', 'q0025_0002', 'q0025_0003', 'q0026',\n",
      "       'q0028', 'q0029', 'q0030', 'q0034', 'q0035', 'q0036', 'race2',\n",
      "       'racethn4', 'educ3', 'educ4', 'age3', 'kids', 'orientation', 'weight'],\n",
      "      dtype='object')\n"
     ]
    },
    {
     "data": {
      "text/html": [
       "<div>\n",
       "<style scoped>\n",
       "    .dataframe tbody tr th:only-of-type {\n",
       "        vertical-align: middle;\n",
       "    }\n",
       "\n",
       "    .dataframe tbody tr th {\n",
       "        vertical-align: top;\n",
       "    }\n",
       "\n",
       "    .dataframe thead th {\n",
       "        text-align: right;\n",
       "    }\n",
       "</style>\n",
       "<table border=\"1\" class=\"dataframe\">\n",
       "  <thead>\n",
       "    <tr style=\"text-align: right;\">\n",
       "      <th></th>\n",
       "      <th>Unnamed: 0</th>\n",
       "      <th>StartDate</th>\n",
       "      <th>EndDate</th>\n",
       "      <th>q0001</th>\n",
       "      <th>q0002</th>\n",
       "      <th>q0004_0001</th>\n",
       "      <th>q0004_0002</th>\n",
       "      <th>q0004_0003</th>\n",
       "      <th>q0004_0004</th>\n",
       "      <th>q0004_0005</th>\n",
       "      <th>...</th>\n",
       "      <th>q0035</th>\n",
       "      <th>q0036</th>\n",
       "      <th>race2</th>\n",
       "      <th>racethn4</th>\n",
       "      <th>educ3</th>\n",
       "      <th>educ4</th>\n",
       "      <th>age3</th>\n",
       "      <th>kids</th>\n",
       "      <th>orientation</th>\n",
       "      <th>weight</th>\n",
       "    </tr>\n",
       "  </thead>\n",
       "  <tbody>\n",
       "    <tr>\n",
       "      <th>0</th>\n",
       "      <td>1</td>\n",
       "      <td>5/10/18 4:01</td>\n",
       "      <td>5/10/18 4:06</td>\n",
       "      <td>Somewhat masculine</td>\n",
       "      <td>Somewhat important</td>\n",
       "      <td>Not selected</td>\n",
       "      <td>Not selected</td>\n",
       "      <td>Not selected</td>\n",
       "      <td>Pop culture</td>\n",
       "      <td>Not selected</td>\n",
       "      <td>...</td>\n",
       "      <td>Middle Atlantic</td>\n",
       "      <td>Windows Desktop / Laptop</td>\n",
       "      <td>Non-white</td>\n",
       "      <td>Hispanic</td>\n",
       "      <td>College or more</td>\n",
       "      <td>College or more</td>\n",
       "      <td>35 - 64</td>\n",
       "      <td>No children</td>\n",
       "      <td>Gay/Bisexual</td>\n",
       "      <td>1.714026</td>\n",
       "    </tr>\n",
       "    <tr>\n",
       "      <th>1</th>\n",
       "      <td>2</td>\n",
       "      <td>5/10/18 6:30</td>\n",
       "      <td>5/10/18 6:53</td>\n",
       "      <td>Somewhat masculine</td>\n",
       "      <td>Somewhat important</td>\n",
       "      <td>Father or father figure(s)</td>\n",
       "      <td>Not selected</td>\n",
       "      <td>Not selected</td>\n",
       "      <td>Not selected</td>\n",
       "      <td>Not selected</td>\n",
       "      <td>...</td>\n",
       "      <td>East North Central</td>\n",
       "      <td>iOS Phone / Tablet</td>\n",
       "      <td>White</td>\n",
       "      <td>White</td>\n",
       "      <td>Some college</td>\n",
       "      <td>Some college</td>\n",
       "      <td>65 and up</td>\n",
       "      <td>Has children</td>\n",
       "      <td>Straight</td>\n",
       "      <td>1.247120</td>\n",
       "    </tr>\n",
       "    <tr>\n",
       "      <th>2</th>\n",
       "      <td>3</td>\n",
       "      <td>5/10/18 7:02</td>\n",
       "      <td>5/10/18 7:09</td>\n",
       "      <td>Very masculine</td>\n",
       "      <td>Not too important</td>\n",
       "      <td>Father or father figure(s)</td>\n",
       "      <td>Not selected</td>\n",
       "      <td>Not selected</td>\n",
       "      <td>Not selected</td>\n",
       "      <td>Not selected</td>\n",
       "      <td>...</td>\n",
       "      <td>East North Central</td>\n",
       "      <td>Windows Desktop / Laptop</td>\n",
       "      <td>White</td>\n",
       "      <td>White</td>\n",
       "      <td>College or more</td>\n",
       "      <td>College or more</td>\n",
       "      <td>35 - 64</td>\n",
       "      <td>Has children</td>\n",
       "      <td>Straight</td>\n",
       "      <td>0.515746</td>\n",
       "    </tr>\n",
       "    <tr>\n",
       "      <th>3</th>\n",
       "      <td>4</td>\n",
       "      <td>5/10/18 7:27</td>\n",
       "      <td>5/10/18 7:31</td>\n",
       "      <td>Very masculine</td>\n",
       "      <td>Not too important</td>\n",
       "      <td>Father or father figure(s)</td>\n",
       "      <td>Mother or mother figure(s)</td>\n",
       "      <td>Other family members</td>\n",
       "      <td>Not selected</td>\n",
       "      <td>Not selected</td>\n",
       "      <td>...</td>\n",
       "      <td>East North Central</td>\n",
       "      <td>Windows Desktop / Laptop</td>\n",
       "      <td>White</td>\n",
       "      <td>White</td>\n",
       "      <td>Some college</td>\n",
       "      <td>Some college</td>\n",
       "      <td>65 and up</td>\n",
       "      <td>Has children</td>\n",
       "      <td>No answer</td>\n",
       "      <td>0.600640</td>\n",
       "    </tr>\n",
       "    <tr>\n",
       "      <th>4</th>\n",
       "      <td>5</td>\n",
       "      <td>5/10/18 7:35</td>\n",
       "      <td>5/10/18 7:42</td>\n",
       "      <td>Very masculine</td>\n",
       "      <td>Very important</td>\n",
       "      <td>Not selected</td>\n",
       "      <td>Not selected</td>\n",
       "      <td>Other family members</td>\n",
       "      <td>Not selected</td>\n",
       "      <td>Not selected</td>\n",
       "      <td>...</td>\n",
       "      <td>East North Central</td>\n",
       "      <td>Windows Desktop / Laptop</td>\n",
       "      <td>White</td>\n",
       "      <td>White</td>\n",
       "      <td>College or more</td>\n",
       "      <td>College or more</td>\n",
       "      <td>35 - 64</td>\n",
       "      <td>No children</td>\n",
       "      <td>Straight</td>\n",
       "      <td>1.033400</td>\n",
       "    </tr>\n",
       "  </tbody>\n",
       "</table>\n",
       "<p>5 rows × 98 columns</p>\n",
       "</div>"
      ],
      "text/plain": [
       "   Unnamed: 0     StartDate       EndDate               q0001  \\\n",
       "0           1  5/10/18 4:01  5/10/18 4:06  Somewhat masculine   \n",
       "1           2  5/10/18 6:30  5/10/18 6:53  Somewhat masculine   \n",
       "2           3  5/10/18 7:02  5/10/18 7:09      Very masculine   \n",
       "3           4  5/10/18 7:27  5/10/18 7:31      Very masculine   \n",
       "4           5  5/10/18 7:35  5/10/18 7:42      Very masculine   \n",
       "\n",
       "                q0002                  q0004_0001                  q0004_0002  \\\n",
       "0  Somewhat important                Not selected                Not selected   \n",
       "1  Somewhat important  Father or father figure(s)                Not selected   \n",
       "2   Not too important  Father or father figure(s)                Not selected   \n",
       "3   Not too important  Father or father figure(s)  Mother or mother figure(s)   \n",
       "4      Very important                Not selected                Not selected   \n",
       "\n",
       "             q0004_0003    q0004_0004    q0004_0005  ...               q0035  \\\n",
       "0          Not selected   Pop culture  Not selected  ...     Middle Atlantic   \n",
       "1          Not selected  Not selected  Not selected  ...  East North Central   \n",
       "2          Not selected  Not selected  Not selected  ...  East North Central   \n",
       "3  Other family members  Not selected  Not selected  ...  East North Central   \n",
       "4  Other family members  Not selected  Not selected  ...  East North Central   \n",
       "\n",
       "                      q0036      race2  racethn4            educ3  \\\n",
       "0  Windows Desktop / Laptop  Non-white  Hispanic  College or more   \n",
       "1        iOS Phone / Tablet      White     White     Some college   \n",
       "2  Windows Desktop / Laptop      White     White  College or more   \n",
       "3  Windows Desktop / Laptop      White     White     Some college   \n",
       "4  Windows Desktop / Laptop      White     White  College or more   \n",
       "\n",
       "             educ4       age3          kids   orientation    weight  \n",
       "0  College or more    35 - 64   No children  Gay/Bisexual  1.714026  \n",
       "1     Some college  65 and up  Has children      Straight  1.247120  \n",
       "2  College or more    35 - 64  Has children      Straight  0.515746  \n",
       "3     Some college  65 and up  Has children     No answer  0.600640  \n",
       "4  College or more    35 - 64   No children      Straight  1.033400  \n",
       "\n",
       "[5 rows x 98 columns]"
      ]
     },
     "execution_count": 26,
     "metadata": {},
     "output_type": "execute_result"
    }
   ],
   "source": [
    "import pandas as pd\n",
    "\n",
    "survey = pd.read_csv(\"masculinity.csv\")\n",
    "print(survey.columns)\n",
    "survey.head()"
   ]
  },
  {
   "cell_type": "markdown",
   "metadata": {},
   "source": [
    "# Mapping the Data\n",
    "\n",
    "In order for us to start thinking about using the KMeans algorithm with this data, we need to first figure out how to turn these responses into numerical data. Let's once again consider question 7 ( How often would you say you do each of the following?). We can't cluster the data using the phrases `\"Often\"` or `\"Rarely\"`, but we can turn those phrases into numbers. For example, we could map the data in the following way: \n",
    "* `\"Often\"` -> `4`\n",
    "* `\"Sometimes\"` ->  `3`\n",
    "* `\"Rarely\"` -> `2` \n",
    "* `\"Never, but open to it\"` -> `1`\n",
    "* `\"Never, and not open to it\"` -> `0`.\n",
    "\n",
    "question 1 (In general, how masculine or “manly” do you feel?)\n",
    "\n",
    "* `\"Very masculine\"` -> `3`\n",
    "* `\"Somewhat masculine\"` ->  `2`\n",
    "* `\"Not very masculine\"` -> `1` \n",
    "* `\"Not at all masculine\"` -> `0`\n"
   ]
  },
  {
   "cell_type": "code",
   "execution_count": 27,
   "metadata": {},
   "outputs": [
    {
     "name": "stdout",
     "output_type": "stream",
     "text": [
      "['Often' 'Rarely' 'Sometimes' 'Never, but open to it'\n",
      " 'Never, and not open to it' 'No answer']\n",
      "3.0    537\n",
      "2.0    324\n",
      "4.0    142\n",
      "1.0    123\n",
      "0.0     53\n",
      "Name: q0007_0001, dtype: int64\n",
      "2.0    617\n",
      "3.0    443\n",
      "1.0     97\n",
      "0.0     21\n",
      "Name: q0001, dtype: int64\n"
     ]
    }
   ],
   "source": [
    "print(survey.q0007_0001.unique())\n",
    "cols_to_map = [\"q0007_0001\", \"q0007_0002\", \"q0007_0003\", \"q0007_0004\",\n",
    "       \"q0007_0005\", \"q0007_0006\", \"q0007_0007\", \"q0007_0008\", \"q0007_0009\",\n",
    "       \"q0007_0010\", \"q0007_0011\"]\n",
    "for col in cols_to_map:\n",
    "    survey[col] = survey[col].map({\"Never, and not open to it\": 0, \"Never, but open to it\": 1, \"Rarely\": 2, \"Sometimes\": 3, \"Often\": 4})\n",
    "survey['q0001'] = survey['q0001'].map({\"Very masculine\" :3,\"Somewhat masculine\":2,\"Not very masculine\":1 ,\"Not at all masculine\": 0})    \n",
    "print(survey['q0007_0001'].value_counts())  \n",
    "print(survey['q0001'].value_counts())   "
   ]
  },
  {
   "cell_type": "markdown",
   "metadata": {},
   "source": [
    "# Plotting the Data\n",
    "\n",
    "We now have 11 different features that we could use in our KMeans algorithm. Before we jump into clustering, let's graph some of these features on a 2D graph. \n",
    " \n",
    "1] Question about asking a friend for professional advice.\n",
    "\n",
    "2] Question about asking a friend for personal advice.\n",
    "\n",
    "6]Have sexual relations with women, including anything from kissing to sex\n",
    "\n",
    "7]Have sexual relations with men, including anything from kissing to sex\n",
    "\n"
   ]
  },
  {
   "cell_type": "code",
   "execution_count": 18,
   "metadata": {},
   "outputs": [
    {
     "data": {
      "image/png": "[encoded data removed]",
      "text/plain": [
       "<Figure size 432x288 with 1 Axes>"
      ]
     },
     "metadata": {
      "needs_background": "light"
     },
     "output_type": "display_data"
    }
   ],
   "source": [
    "from matplotlib import pyplot as plt\n",
    "\n",
    "plt.scatter(survey[\"q0007_0001\"], survey[\"q0007_0002\"], alpha = 0.1)\n",
    "plt.xlabel(\"Ask a friend for professional advice\")\n",
    "plt.ylabel(\"Ask a friend for personal advice\")\n",
    "plt.show()"
   ]
  },
  {
   "cell_type": "code",
   "execution_count": 19,
   "metadata": {},
   "outputs": [
    {
     "data": {
      "image/png": "[encoded data removed]",
      "text/plain": [
       "<Figure size 432x288 with 1 Axes>"
      ]
     },
     "metadata": {
      "needs_background": "light"
     },
     "output_type": "display_data"
    }
   ],
   "source": [
    "plt.scatter(survey[\"q0007_0006\"], survey[\"q0007_0007\"], alpha = 0.1)\n",
    "plt.xlabel(\"Have sexual relations with women\")\n",
    "plt.ylabel(\"Have sexual relations with men\")\n",
    "plt.show()"
   ]
  },
  {
   "cell_type": "markdown",
   "metadata": {},
   "source": [
    "# Building the KMeans Model\n",
    "\n",
    "It's now time to start clustering! There are so many interesting questions we could ask about this data. Let's start by seeing if clusters form based on traditionally masculine concepts. \n"
   ]
  },
  {
   "cell_type": "code",
   "execution_count": 28,
   "metadata": {},
   "outputs": [
    {
     "data": {
      "text/plain": [
       "KMeans(n_clusters=2)"
      ]
     },
     "execution_count": 28,
     "metadata": {},
     "output_type": "execute_result"
    }
   ],
   "source": [
    "from sklearn.cluster import KMeans\n",
    "cols_to_cluster = [\"q0001\",\"q0007_0001\", \"q0007_0002\", \"q0007_0003\", \"q0007_0004\",\n",
    "       \"q0007_0005\", \"q0007_0006\", \"q0007_0007\", \"q0007_0008\", \"q0007_0009\",\n",
    "       \"q0007_0010\", \"q0007_0011\"]\n",
    "rows_to_cluster = survey.dropna(subset=cols_to_cluster)\n",
    "model = KMeans(n_clusters = 2)\n",
    "model.fit(rows_to_cluster[cols_to_cluster])\n"
   ]
  },
  {
   "cell_type": "markdown",
   "metadata": {},
   "source": [
    "# Separating the Cluster Members\n",
    "\n"
   ]
  },
  {
   "cell_type": "code",
   "execution_count": 29,
   "metadata": {},
   "outputs": [
    {
     "name": "stdout",
     "output_type": "stream",
     "text": [
      "[0 0 1 ... 0 1 1]\n",
      "[0, 1, 4, 7, 10, 12, 13, 14, 15, 19, 21, 22, 23, 24, 26, 28, 29, 30, 32, 33, 35, 36, 37, 38, 39, 41, 42, 43, 44, 47, 53, 56, 57, 58, 63, 64, 66, 67, 68, 69, 70, 72, 73, 74, 76, 77, 78, 79, 80, 88, 94, 95, 97, 98, 99, 100, 103, 104, 105, 107, 109, 110, 112, 115, 116, 117, 119, 120, 121, 122, 128, 130, 131, 132, 133, 135, 139, 140, 141, 142, 144, 145, 146, 147, 148, 150, 151, 152, 153, 154, 155, 156, 158, 159, 160, 161, 162, 163, 164, 165, 166, 168, 169, 170, 172, 173, 175, 176, 177, 178, 182, 184, 186, 187, 188, 190, 193, 197, 199, 200, 201, 203, 204, 206, 207, 208, 209, 210, 211, 212, 213, 214, 215, 216, 217, 218, 219, 220, 221, 223, 225, 227, 228, 231, 232, 235, 236, 237, 238, 239, 240, 242, 244, 245, 246, 247, 248, 249, 250, 251, 252, 255, 258, 259, 260, 261, 263, 264, 266, 267, 269, 270, 271, 273, 274, 275, 279, 280, 281, 282, 283, 285, 286, 287, 288, 290, 291, 295, 296, 299, 300, 301, 302, 304, 306, 307, 308, 309, 311, 313, 314, 315, 317, 318, 320, 321, 322, 323, 324, 325, 326, 331, 332, 333, 334, 336, 339, 341, 342, 343, 344, 347, 348, 350, 353, 355, 356, 357, 358, 359, 362, 363, 364, 365, 366, 367, 368, 370, 371, 372, 378, 379, 383, 384, 385, 387, 388, 389, 390, 391, 394, 396, 397, 398, 403, 404, 405, 406, 407, 409, 410, 413, 414, 416, 417, 418, 419, 420, 421, 422, 423, 424, 425, 426, 427, 428, 429, 431, 433, 435, 439, 441, 445, 446, 447, 448, 449, 450, 452, 456, 457, 461, 462, 463, 464, 465, 468, 469, 470, 477, 479, 482, 483, 485, 487, 488, 489, 493, 495, 496, 499, 500, 501, 503, 505, 506, 508, 510, 513, 514, 515, 516, 517, 518, 519, 520, 522, 523, 524, 526, 527, 530, 531, 532, 533, 536, 537, 540, 546, 547, 549, 552, 553, 554, 556, 559, 560, 561, 562, 564, 565, 568, 569, 573, 574, 575, 576, 577, 578, 579, 581, 582, 583, 584, 585, 586, 588, 589, 590, 591, 592, 594, 596, 598, 599, 601, 602, 604, 606, 607, 609, 615, 616, 617, 618, 619, 620, 621, 623, 625, 626, 630, 631, 633, 634, 636, 638, 639, 640, 641, 643, 644, 645, 646, 647, 648, 649, 651, 652, 653, 655, 657, 660, 661, 662, 665, 666, 667, 670, 671, 672, 673, 674, 675, 677, 678, 679, 680, 683, 684, 685, 686, 687, 688, 695, 696, 699, 700, 701, 702, 704, 705, 707, 708, 710, 711, 714, 715, 720, 721, 723, 724, 725, 728, 729, 730, 731, 732, 734, 735, 738, 740, 746, 752, 753, 757, 759, 762, 763, 764, 765, 767, 769, 771, 772, 773, 776, 778, 780, 781, 782, 783, 785, 786, 787, 789, 791, 792, 793, 795, 797, 798, 799, 800, 801, 802, 803, 806, 807, 808, 809, 811, 813, 815, 816, 818, 820, 822, 823, 825, 826, 827, 828, 830, 831, 832, 834, 837, 838, 839, 846, 848, 850, 851, 853, 856, 862, 864, 865, 866, 867, 868, 869, 871, 872, 874, 875, 876, 879, 883, 884, 885, 886, 888, 889, 890, 891, 892, 893, 895, 896, 897, 898, 899, 902, 903, 904, 905, 906, 908, 910, 911, 912, 913, 914, 916, 917, 920, 921, 922, 925, 928, 929, 931, 932, 935, 936, 937, 938, 940, 942, 944, 946, 948, 949, 950, 951, 953, 955, 956, 958, 960, 962, 963, 964, 966, 969, 971, 972, 973, 974, 975, 977, 978, 979, 980, 981, 983, 984, 986, 987, 988, 992, 993, 996, 998, 999, 1001, 1003, 1004, 1005, 1008, 1010, 1011, 1012]\n"
     ]
    }
   ],
   "source": [
    "print(model.labels_)\n",
    "\n",
    "cluster_zero_indices = []\n",
    "cluster_one_indices = []\n",
    "for i in range(len(model.labels_)):\n",
    "    if model.labels_[i] == 0:\n",
    "        cluster_zero_indices.append(i)\n",
    "    elif model.labels_[i] == 1:\n",
    "        cluster_one_indices.append(i)\n",
    "        \n",
    "print(cluster_zero_indices)"
   ]
  },
  {
   "cell_type": "markdown",
   "metadata": {},
   "source": [
    "# Investigating the Cluster Members\n",
    "\n",
    "Now that we have the indices for each cluster, let's look at some stats about these two clusters. we can get the rows of the DataFrame that correspond to cluster zero by doing the following:"
   ]
  },
  {
   "cell_type": "code",
   "execution_count": 30,
   "metadata": {
    "scrolled": true
   },
   "outputs": [
    {
     "name": "stdout",
     "output_type": "stream",
     "text": [
      "Post graduate degree    0.3712\n",
      "College or more         0.3088\n",
      "Some college            0.2384\n",
      "High school or less     0.0816\n",
      "Name: educ4, dtype: float64\n",
      "College or more         0.333333\n",
      "Some college            0.287179\n",
      "Post graduate degree    0.256410\n",
      "High school or less     0.120513\n",
      "Name: educ4, dtype: float64\n"
     ]
    }
   ],
   "source": [
    "cluster_zero_df = rows_to_cluster.iloc[cluster_zero_indices]\n",
    "cluster_one_df = rows_to_cluster.iloc[cluster_one_indices]\n",
    "\n",
    "print(cluster_zero_df['educ4'].value_counts()/len(cluster_zero_df))\n",
    "print(cluster_one_df['educ4'].value_counts()/len(cluster_one_df))"
   ]
  },
  {
   "cell_type": "markdown",
   "metadata": {},
   "source": [
    "We've found out that by answering those 7 questions people don't fall into a \"masculine\" category or a \"feminine\" category. Instead, they seem to be divided by their level of education!\n",
    "\n",
    "In this project, we have used a survey conducted by 538 to find patterns in the way men view masculinity.\n"
   ]
  }
 ],
 "metadata": {
  "kernelspec": {
   "display_name": "Python 3",
   "language": "python",
   "name": "python3"
  },
  "language_info": {
   "codemirror_mode": {
    "name": "ipython",
    "version": 3
   },
   "file_extension": ".py",
   "mimetype": "text/x-python",
   "name": "python",
   "nbconvert_exporter": "python",
   "pygments_lexer": "ipython3",
   "version": "3.8.8"
  }
 },
 "nbformat": 4,
 "nbformat_minor": 2
}
