{
 "cells": [
  {
   "cell_type": "markdown",
   "id": "a1228d5e",
   "metadata": {},
   "source": [
    "# Find the Flag\n",
    "\n",
    "In this project, we’ll use decision trees to try to predict the continent of flags based on several of these features.\n",
    "\n",
    "We’ll explore which features are the best to use and the best way to create your decision tree."
   ]
  },
  {
   "cell_type": "code",
   "execution_count": 33,
   "id": "0b94791c",
   "metadata": {},
   "outputs": [],
   "source": [
    "import pandas as pd\n",
    "from sklearn.model_selection import train_test_split\n",
    "from sklearn.tree import DecisionTreeClassifier\n",
    "import seaborn as sns\n",
    "from matplotlib import pyplot as plt"
   ]
  },
  {
   "cell_type": "code",
   "execution_count": 4,
   "id": "78908b7a",
   "metadata": {},
   "outputs": [
    {
     "name": "stdout",
     "output_type": "stream",
     "text": [
      "<class 'pandas.core.frame.DataFrame'>\n",
      "RangeIndex: 194 entries, 0 to 193\n",
      "Data columns (total 30 columns):\n",
      " #   Column      Non-Null Count  Dtype \n",
      "---  ------      --------------  ----- \n",
      " 0   Name        194 non-null    object\n",
      " 1   Landmass    194 non-null    int64 \n",
      " 2   Zone        194 non-null    int64 \n",
      " 3   Area        194 non-null    int64 \n",
      " 4   Population  194 non-null    int64 \n",
      " 5   Language    194 non-null    int64 \n",
      " 6   Religion    194 non-null    int64 \n",
      " 7   Bars        194 non-null    int64 \n",
      " 8   Stripes     194 non-null    int64 \n",
      " 9   Colors      194 non-null    int64 \n",
      " 10  Red         194 non-null    int64 \n",
      " 11  Green       194 non-null    int64 \n",
      " 12  Blue        194 non-null    int64 \n",
      " 13  Gold        194 non-null    int64 \n",
      " 14  White       194 non-null    int64 \n",
      " 15  Black       194 non-null    int64 \n",
      " 16  Orange      194 non-null    int64 \n",
      " 17  Mainhue     194 non-null    object\n",
      " 18  Circles     194 non-null    int64 \n",
      " 19  Crosses     194 non-null    int64 \n",
      " 20  Saltires    194 non-null    int64 \n",
      " 21  Quarters    194 non-null    int64 \n",
      " 22  Sunstars    194 non-null    int64 \n",
      " 23  Crescent    194 non-null    int64 \n",
      " 24  Triangle    194 non-null    int64 \n",
      " 25  Icon        194 non-null    int64 \n",
      " 26  Animate     194 non-null    int64 \n",
      " 27  Text        194 non-null    int64 \n",
      " 28  Topleft     194 non-null    object\n",
      " 29  Botright    194 non-null    object\n",
      "dtypes: int64(26), object(4)\n",
      "memory usage: 45.6+ KB\n",
      "None\n"
     ]
    },
    {
     "data": {
      "text/html": [
       "<div>\n",
       "<style scoped>\n",
       "    .dataframe tbody tr th:only-of-type {\n",
       "        vertical-align: middle;\n",
       "    }\n",
       "\n",
       "    .dataframe tbody tr th {\n",
       "        vertical-align: top;\n",
       "    }\n",
       "\n",
       "    .dataframe thead th {\n",
       "        text-align: right;\n",
       "    }\n",
       "</style>\n",
       "<table border=\"1\" class=\"dataframe\">\n",
       "  <thead>\n",
       "    <tr style=\"text-align: right;\">\n",
       "      <th></th>\n",
       "      <th>Name</th>\n",
       "      <th>Landmass</th>\n",
       "      <th>Zone</th>\n",
       "      <th>Area</th>\n",
       "      <th>Population</th>\n",
       "      <th>Language</th>\n",
       "      <th>Religion</th>\n",
       "      <th>Bars</th>\n",
       "      <th>Stripes</th>\n",
       "      <th>Colors</th>\n",
       "      <th>...</th>\n",
       "      <th>Saltires</th>\n",
       "      <th>Quarters</th>\n",
       "      <th>Sunstars</th>\n",
       "      <th>Crescent</th>\n",
       "      <th>Triangle</th>\n",
       "      <th>Icon</th>\n",
       "      <th>Animate</th>\n",
       "      <th>Text</th>\n",
       "      <th>Topleft</th>\n",
       "      <th>Botright</th>\n",
       "    </tr>\n",
       "  </thead>\n",
       "  <tbody>\n",
       "    <tr>\n",
       "      <th>0</th>\n",
       "      <td>Afghanistan</td>\n",
       "      <td>5</td>\n",
       "      <td>1</td>\n",
       "      <td>648</td>\n",
       "      <td>16</td>\n",
       "      <td>10</td>\n",
       "      <td>2</td>\n",
       "      <td>0</td>\n",
       "      <td>3</td>\n",
       "      <td>5</td>\n",
       "      <td>...</td>\n",
       "      <td>0</td>\n",
       "      <td>0</td>\n",
       "      <td>1</td>\n",
       "      <td>0</td>\n",
       "      <td>0</td>\n",
       "      <td>1</td>\n",
       "      <td>0</td>\n",
       "      <td>0</td>\n",
       "      <td>black</td>\n",
       "      <td>green</td>\n",
       "    </tr>\n",
       "    <tr>\n",
       "      <th>1</th>\n",
       "      <td>Albania</td>\n",
       "      <td>3</td>\n",
       "      <td>1</td>\n",
       "      <td>29</td>\n",
       "      <td>3</td>\n",
       "      <td>6</td>\n",
       "      <td>6</td>\n",
       "      <td>0</td>\n",
       "      <td>0</td>\n",
       "      <td>3</td>\n",
       "      <td>...</td>\n",
       "      <td>0</td>\n",
       "      <td>0</td>\n",
       "      <td>1</td>\n",
       "      <td>0</td>\n",
       "      <td>0</td>\n",
       "      <td>0</td>\n",
       "      <td>1</td>\n",
       "      <td>0</td>\n",
       "      <td>red</td>\n",
       "      <td>red</td>\n",
       "    </tr>\n",
       "    <tr>\n",
       "      <th>2</th>\n",
       "      <td>Algeria</td>\n",
       "      <td>4</td>\n",
       "      <td>1</td>\n",
       "      <td>2388</td>\n",
       "      <td>20</td>\n",
       "      <td>8</td>\n",
       "      <td>2</td>\n",
       "      <td>2</td>\n",
       "      <td>0</td>\n",
       "      <td>3</td>\n",
       "      <td>...</td>\n",
       "      <td>0</td>\n",
       "      <td>0</td>\n",
       "      <td>1</td>\n",
       "      <td>1</td>\n",
       "      <td>0</td>\n",
       "      <td>0</td>\n",
       "      <td>0</td>\n",
       "      <td>0</td>\n",
       "      <td>green</td>\n",
       "      <td>white</td>\n",
       "    </tr>\n",
       "    <tr>\n",
       "      <th>3</th>\n",
       "      <td>American-Samoa</td>\n",
       "      <td>6</td>\n",
       "      <td>3</td>\n",
       "      <td>0</td>\n",
       "      <td>0</td>\n",
       "      <td>1</td>\n",
       "      <td>1</td>\n",
       "      <td>0</td>\n",
       "      <td>0</td>\n",
       "      <td>5</td>\n",
       "      <td>...</td>\n",
       "      <td>0</td>\n",
       "      <td>0</td>\n",
       "      <td>0</td>\n",
       "      <td>0</td>\n",
       "      <td>1</td>\n",
       "      <td>1</td>\n",
       "      <td>1</td>\n",
       "      <td>0</td>\n",
       "      <td>blue</td>\n",
       "      <td>red</td>\n",
       "    </tr>\n",
       "    <tr>\n",
       "      <th>4</th>\n",
       "      <td>Andorra</td>\n",
       "      <td>3</td>\n",
       "      <td>1</td>\n",
       "      <td>0</td>\n",
       "      <td>0</td>\n",
       "      <td>6</td>\n",
       "      <td>0</td>\n",
       "      <td>3</td>\n",
       "      <td>0</td>\n",
       "      <td>3</td>\n",
       "      <td>...</td>\n",
       "      <td>0</td>\n",
       "      <td>0</td>\n",
       "      <td>0</td>\n",
       "      <td>0</td>\n",
       "      <td>0</td>\n",
       "      <td>0</td>\n",
       "      <td>0</td>\n",
       "      <td>0</td>\n",
       "      <td>blue</td>\n",
       "      <td>red</td>\n",
       "    </tr>\n",
       "  </tbody>\n",
       "</table>\n",
       "<p>5 rows × 30 columns</p>\n",
       "</div>"
      ],
      "text/plain": [
       "             Name  Landmass  Zone  Area  Population  Language  Religion  Bars  \\\n",
       "0     Afghanistan         5     1   648          16        10         2     0   \n",
       "1         Albania         3     1    29           3         6         6     0   \n",
       "2         Algeria         4     1  2388          20         8         2     2   \n",
       "3  American-Samoa         6     3     0           0         1         1     0   \n",
       "4         Andorra         3     1     0           0         6         0     3   \n",
       "\n",
       "   Stripes  Colors  ...  Saltires  Quarters  Sunstars  Crescent  Triangle  \\\n",
       "0        3       5  ...         0         0         1         0         0   \n",
       "1        0       3  ...         0         0         1         0         0   \n",
       "2        0       3  ...         0         0         1         1         0   \n",
       "3        0       5  ...         0         0         0         0         1   \n",
       "4        0       3  ...         0         0         0         0         0   \n",
       "\n",
       "   Icon  Animate Text  Topleft  Botright  \n",
       "0     1        0    0    black     green  \n",
       "1     0        1    0      red       red  \n",
       "2     0        0    0    green     white  \n",
       "3     1        1    0     blue       red  \n",
       "4     0        0    0     blue       red  \n",
       "\n",
       "[5 rows x 30 columns]"
      ]
     },
     "execution_count": 4,
     "metadata": {},
     "output_type": "execute_result"
    }
   ],
   "source": [
    "df = pd.read_csv('flags.csv')\n",
    "print(df.info())\n",
    "df.head()"
   ]
  },
  {
   "cell_type": "code",
   "execution_count": 23,
   "id": "990042a5",
   "metadata": {},
   "outputs": [
    {
     "name": "stdout",
     "output_type": "stream",
     "text": [
      "Index(['Name', 'Landmass', 'Zone', 'Area', 'Population', 'Language',\n",
      "       'Religion', 'Bars', 'Stripes', 'Colors', 'Red', 'Green', 'Blue', 'Gold',\n",
      "       'White', 'Black', 'Orange', 'Mainhue', 'Circles', 'Crosses', 'Saltires',\n",
      "       'Quarters', 'Sunstars', 'Crescent', 'Triangle', 'Icon', 'Animate',\n",
      "       'Text', 'Topleft', 'Botright'],\n",
      "      dtype='object')\n",
      "[5 3 4 6 1 2]\n"
     ]
    }
   ],
   "source": [
    "print(df.columns)\n",
    "print(df.Landmass.unique())"
   ]
  },
  {
   "cell_type": "code",
   "execution_count": 9,
   "id": "caf7aeb1",
   "metadata": {},
   "outputs": [],
   "source": [
    "# We’re eventually going to use create a decision tree to classify what Landmass a country is on.\n",
    "labels = df['Landmass']\n",
    "features = df[['Bars', 'Stripes', 'Colors', 'Red', 'Green', 'Blue', 'Gold',\n",
    "       'White', 'Black', 'Orange','Circles', 'Crosses', 'Saltires',\n",
    "       'Quarters', 'Sunstars', 'Crescent', 'Triangle', 'Icon', 'Animate',\n",
    "       'Text']]\n",
    "# Finally, let’s split these DataFrames into a training set and test set using the train_test_split() function.\n",
    "train_x,test_x,train_y,test_y = train_test_split(features,labels,random_state=41)"
   ]
  },
  {
   "cell_type": "markdown",
   "id": "b663f5ee",
   "metadata": {},
   "source": [
    "# Make and Test the Model"
   ]
  },
  {
   "cell_type": "code",
   "execution_count": 26,
   "id": "1373ddf6",
   "metadata": {},
   "outputs": [
    {
     "name": "stdout",
     "output_type": "stream",
     "text": [
      "0.3469387755102041\n"
     ]
    }
   ],
   "source": [
    "#Making Our base model\n",
    "model = DecisionTreeClassifier(random_state=2)\n",
    "model.fit(train_x,train_y)\n",
    "print(model.score(test_x,test_y))"
   ]
  },
  {
   "cell_type": "markdown",
   "id": "a72c1046",
   "metadata": {},
   "source": [
    "Since there are six possible landmasses, if we randomly guessed, we’d expect to be right about 16% of the time but our model is 36.73 % accurate which is even better.\n",
    "\n",
    "# Tuning the Model"
   ]
  },
  {
   "cell_type": "code",
   "execution_count": 34,
   "id": "244e86bf",
   "metadata": {},
   "outputs": [
    {
     "name": "stdout",
     "output_type": "stream",
     "text": [
      "12\n",
      "1 0.30612244897959184\n",
      "2 0.4489795918367347\n",
      "3 0.40816326530612246\n",
      "4 0.4489795918367347\n",
      "5 0.46938775510204084\n",
      "6 0.4489795918367347\n",
      "7 0.3877551020408163\n",
      "8 0.3469387755102041\n",
      "9 0.3469387755102041\n",
      "10 0.3673469387755102\n",
      "11 0.3673469387755102\n",
      "12 0.3673469387755102\n"
     ]
    },
    {
     "data": {
      "text/plain": [
       "Text(0.5, 1.0, 'Finding Best Max Depth')"
      ]
     },
     "execution_count": 34,
     "metadata": {},
     "output_type": "execute_result"
    },
    {
     "data": {
      "image/png": "[encoded data removed]",
      "text/plain": [
       "<Figure size 432x288 with 1 Axes>"
      ]
     },
     "metadata": {
      "needs_background": "light"
     },
     "output_type": "display_data"
    }
   ],
   "source": [
    "print(model.tree_.max_depth)\n",
    "score = []\n",
    "for i in range(1,13):\n",
    "    model = DecisionTreeClassifier(random_state=2,max_depth=i)\n",
    "    model.fit(train_x,train_y)\n",
    "    score.append(model.score(test_x,test_y))\n",
    "    print(i,model.score(test_x,test_y))\n",
    "sns.lineplot(x=range(1,13),y=score)  \n",
    "plt.xlabel('Max Depth')\n",
    "plt.ylabel('Accuracy')\n",
    "plt.title('Finding Best Max Depth')"
   ]
  },
  {
   "cell_type": "markdown",
   "id": "b51005f7",
   "metadata": {},
   "source": [
    "As we can see that using max_depth 5 will result in score of 47% , we will use it in our final model. If the tree is too big, we’re getting too specific and relying too heavily on the training data.\n",
    "\n",
    "# Final Model"
   ]
  },
  {
   "cell_type": "code",
   "execution_count": 35,
   "id": "8c473119",
   "metadata": {},
   "outputs": [
    {
     "name": "stdout",
     "output_type": "stream",
     "text": [
      "0.46938775510204084\n"
     ]
    }
   ],
   "source": [
    "model = DecisionTreeClassifier(random_state=2,max_depth=5)\n",
    "model.fit(train_x,train_y)\n",
    "print(model.score(test_x,test_y))"
   ]
  },
  {
   "cell_type": "markdown",
   "id": "3c4e702e",
   "metadata": {},
   "source": [
    "Since there are six possible landmasses, if we randomly guessed, we’d expect to be right about 16% of the time but our model is 47% accurate which is way better."
   ]
  }
 ],
 "metadata": {
  "kernelspec": {
   "display_name": "Python 3",
   "language": "python",
   "name": "python3"
  },
  "language_info": {
   "codemirror_mode": {
    "name": "ipython",
    "version": 3
   },
   "file_extension": ".py",
   "mimetype": "text/x-python",
   "name": "python",
   "nbconvert_exporter": "python",
   "pygments_lexer": "ipython3",
   "version": "3.8.8"
  }
 },
 "nbformat": 4,
 "nbformat_minor": 5
}
